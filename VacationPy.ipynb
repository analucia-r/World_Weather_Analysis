{
 "cells": [
  {
   "cell_type": "code",
   "execution_count": 1,
   "id": "a021e21b",
   "metadata": {},
   "outputs": [],
   "source": [
    "# Import the dependencies.\n",
    "import pandas as pd\n",
    "import gmaps\n",
    "import requests\n",
    "# Import the API key.\n",
    "from config import g_key"
   ]
  },
  {
   "cell_type": "code",
   "execution_count": 2,
   "id": "45b0245a",
   "metadata": {},
   "outputs": [
    {
     "data": {
      "text/html": [
       "<div>\n",
       "<style scoped>\n",
       "    .dataframe tbody tr th:only-of-type {\n",
       "        vertical-align: middle;\n",
       "    }\n",
       "\n",
       "    .dataframe tbody tr th {\n",
       "        vertical-align: top;\n",
       "    }\n",
       "\n",
       "    .dataframe thead th {\n",
       "        text-align: right;\n",
       "    }\n",
       "</style>\n",
       "<table border=\"1\" class=\"dataframe\">\n",
       "  <thead>\n",
       "    <tr style=\"text-align: right;\">\n",
       "      <th></th>\n",
       "      <th>City_ID</th>\n",
       "      <th>City</th>\n",
       "      <th>Country</th>\n",
       "      <th>Date</th>\n",
       "      <th>Lat</th>\n",
       "      <th>Lng</th>\n",
       "      <th>Max Temp</th>\n",
       "      <th>Humidity</th>\n",
       "      <th>Cloudiness</th>\n",
       "      <th>Wind Speed</th>\n",
       "    </tr>\n",
       "  </thead>\n",
       "  <tbody>\n",
       "    <tr>\n",
       "      <th>0</th>\n",
       "      <td>0</td>\n",
       "      <td>Havoysund</td>\n",
       "      <td>NO</td>\n",
       "      <td>2022-03-25 00:40:39</td>\n",
       "      <td>70.9963</td>\n",
       "      <td>24.6622</td>\n",
       "      <td>28.63</td>\n",
       "      <td>66</td>\n",
       "      <td>100</td>\n",
       "      <td>13.67</td>\n",
       "    </tr>\n",
       "    <tr>\n",
       "      <th>1</th>\n",
       "      <td>1</td>\n",
       "      <td>Petropavlovsk-Kamchatskiy</td>\n",
       "      <td>RU</td>\n",
       "      <td>2022-03-25 00:35:57</td>\n",
       "      <td>53.0452</td>\n",
       "      <td>158.6483</td>\n",
       "      <td>28.99</td>\n",
       "      <td>55</td>\n",
       "      <td>20</td>\n",
       "      <td>11.18</td>\n",
       "    </tr>\n",
       "    <tr>\n",
       "      <th>2</th>\n",
       "      <td>2</td>\n",
       "      <td>Roald</td>\n",
       "      <td>NO</td>\n",
       "      <td>2022-03-25 00:40:39</td>\n",
       "      <td>62.5833</td>\n",
       "      <td>6.1333</td>\n",
       "      <td>49.12</td>\n",
       "      <td>93</td>\n",
       "      <td>100</td>\n",
       "      <td>28.77</td>\n",
       "    </tr>\n",
       "    <tr>\n",
       "      <th>3</th>\n",
       "      <td>3</td>\n",
       "      <td>Pacific Grove</td>\n",
       "      <td>US</td>\n",
       "      <td>2022-03-25 00:30:24</td>\n",
       "      <td>36.6177</td>\n",
       "      <td>-121.9166</td>\n",
       "      <td>70.56</td>\n",
       "      <td>86</td>\n",
       "      <td>75</td>\n",
       "      <td>8.99</td>\n",
       "    </tr>\n",
       "    <tr>\n",
       "      <th>4</th>\n",
       "      <td>4</td>\n",
       "      <td>Todos Santos</td>\n",
       "      <td>MX</td>\n",
       "      <td>2022-03-25 00:40:40</td>\n",
       "      <td>23.4500</td>\n",
       "      <td>-110.2167</td>\n",
       "      <td>72.45</td>\n",
       "      <td>68</td>\n",
       "      <td>92</td>\n",
       "      <td>2.77</td>\n",
       "    </tr>\n",
       "  </tbody>\n",
       "</table>\n",
       "</div>"
      ],
      "text/plain": [
       "   City_ID                       City Country                 Date      Lat  \\\n",
       "0        0                  Havoysund      NO  2022-03-25 00:40:39  70.9963   \n",
       "1        1  Petropavlovsk-Kamchatskiy      RU  2022-03-25 00:35:57  53.0452   \n",
       "2        2                      Roald      NO  2022-03-25 00:40:39  62.5833   \n",
       "3        3              Pacific Grove      US  2022-03-25 00:30:24  36.6177   \n",
       "4        4               Todos Santos      MX  2022-03-25 00:40:40  23.4500   \n",
       "\n",
       "        Lng  Max Temp  Humidity  Cloudiness  Wind Speed  \n",
       "0   24.6622     28.63        66         100       13.67  \n",
       "1  158.6483     28.99        55          20       11.18  \n",
       "2    6.1333     49.12        93         100       28.77  \n",
       "3 -121.9166     70.56        86          75        8.99  \n",
       "4 -110.2167     72.45        68          92        2.77  "
      ]
     },
     "execution_count": 2,
     "metadata": {},
     "output_type": "execute_result"
    }
   ],
   "source": [
    "# Store the CSV you saved created in part one into a DataFrame.\n",
    "city_data_df = pd.read_csv(\"weather_data/cities.csv\")\n",
    "city_data_df.head()"
   ]
  },
  {
   "cell_type": "code",
   "execution_count": 3,
   "id": "91f7aeb2",
   "metadata": {},
   "outputs": [
    {
     "data": {
      "text/html": [
       "<div>\n",
       "<style scoped>\n",
       "    .dataframe tbody tr th:only-of-type {\n",
       "        vertical-align: middle;\n",
       "    }\n",
       "\n",
       "    .dataframe tbody tr th {\n",
       "        vertical-align: top;\n",
       "    }\n",
       "\n",
       "    .dataframe thead th {\n",
       "        text-align: right;\n",
       "    }\n",
       "</style>\n",
       "<table border=\"1\" class=\"dataframe\">\n",
       "  <thead>\n",
       "    <tr style=\"text-align: right;\">\n",
       "      <th></th>\n",
       "      <th>City_ID</th>\n",
       "      <th>City</th>\n",
       "      <th>Country</th>\n",
       "      <th>Date</th>\n",
       "      <th>Lat</th>\n",
       "      <th>Lng</th>\n",
       "      <th>Max Temp</th>\n",
       "      <th>Humidity</th>\n",
       "      <th>Cloudiness</th>\n",
       "      <th>Wind Speed</th>\n",
       "    </tr>\n",
       "  </thead>\n",
       "  <tbody>\n",
       "    <tr>\n",
       "      <th>0</th>\n",
       "      <td>0</td>\n",
       "      <td>Havoysund</td>\n",
       "      <td>NO</td>\n",
       "      <td>2022-03-25 00:40:39</td>\n",
       "      <td>70.9963</td>\n",
       "      <td>24.6622</td>\n",
       "      <td>28.63</td>\n",
       "      <td>66</td>\n",
       "      <td>100</td>\n",
       "      <td>13.67</td>\n",
       "    </tr>\n",
       "    <tr>\n",
       "      <th>1</th>\n",
       "      <td>1</td>\n",
       "      <td>Petropavlovsk-Kamchatskiy</td>\n",
       "      <td>RU</td>\n",
       "      <td>2022-03-25 00:35:57</td>\n",
       "      <td>53.0452</td>\n",
       "      <td>158.6483</td>\n",
       "      <td>28.99</td>\n",
       "      <td>55</td>\n",
       "      <td>20</td>\n",
       "      <td>11.18</td>\n",
       "    </tr>\n",
       "    <tr>\n",
       "      <th>2</th>\n",
       "      <td>2</td>\n",
       "      <td>Roald</td>\n",
       "      <td>NO</td>\n",
       "      <td>2022-03-25 00:40:39</td>\n",
       "      <td>62.5833</td>\n",
       "      <td>6.1333</td>\n",
       "      <td>49.12</td>\n",
       "      <td>93</td>\n",
       "      <td>100</td>\n",
       "      <td>28.77</td>\n",
       "    </tr>\n",
       "    <tr>\n",
       "      <th>3</th>\n",
       "      <td>3</td>\n",
       "      <td>Pacific Grove</td>\n",
       "      <td>US</td>\n",
       "      <td>2022-03-25 00:30:24</td>\n",
       "      <td>36.6177</td>\n",
       "      <td>-121.9166</td>\n",
       "      <td>70.56</td>\n",
       "      <td>86</td>\n",
       "      <td>75</td>\n",
       "      <td>8.99</td>\n",
       "    </tr>\n",
       "    <tr>\n",
       "      <th>4</th>\n",
       "      <td>4</td>\n",
       "      <td>Todos Santos</td>\n",
       "      <td>MX</td>\n",
       "      <td>2022-03-25 00:40:40</td>\n",
       "      <td>23.4500</td>\n",
       "      <td>-110.2167</td>\n",
       "      <td>72.45</td>\n",
       "      <td>68</td>\n",
       "      <td>92</td>\n",
       "      <td>2.77</td>\n",
       "    </tr>\n",
       "  </tbody>\n",
       "</table>\n",
       "</div>"
      ],
      "text/plain": [
       "   City_ID                       City Country                 Date      Lat  \\\n",
       "0        0                  Havoysund      NO  2022-03-25 00:40:39  70.9963   \n",
       "1        1  Petropavlovsk-Kamchatskiy      RU  2022-03-25 00:35:57  53.0452   \n",
       "2        2                      Roald      NO  2022-03-25 00:40:39  62.5833   \n",
       "3        3              Pacific Grove      US  2022-03-25 00:30:24  36.6177   \n",
       "4        4               Todos Santos      MX  2022-03-25 00:40:40  23.4500   \n",
       "\n",
       "        Lng  Max Temp  Humidity  Cloudiness  Wind Speed  \n",
       "0   24.6622     28.63        66         100       13.67  \n",
       "1  158.6483     28.99        55          20       11.18  \n",
       "2    6.1333     49.12        93         100       28.77  \n",
       "3 -121.9166     70.56        86          75        8.99  \n",
       "4 -110.2167     72.45        68          92        2.77  "
      ]
     },
     "execution_count": 3,
     "metadata": {},
     "output_type": "execute_result"
    }
   ],
   "source": [
    "# Store the CSV you saved created in part one into a DataFrame.\n",
    "city_data_df = pd.read_csv(\"weather_data/cities.csv\")\n",
    "city_data_df.head()"
   ]
  },
  {
   "cell_type": "code",
   "execution_count": 4,
   "id": "77ebc950",
   "metadata": {},
   "outputs": [
    {
     "data": {
      "text/plain": [
       "City_ID         int64\n",
       "City           object\n",
       "Country        object\n",
       "Date           object\n",
       "Lat           float64\n",
       "Lng           float64\n",
       "Max Temp      float64\n",
       "Humidity        int64\n",
       "Cloudiness      int64\n",
       "Wind Speed    float64\n",
       "dtype: object"
      ]
     },
     "execution_count": 4,
     "metadata": {},
     "output_type": "execute_result"
    }
   ],
   "source": [
    "city_data_df.dtypes"
   ]
  },
  {
   "cell_type": "code",
   "execution_count": 8,
   "id": "6f0ea28f",
   "metadata": {},
   "outputs": [],
   "source": [
    "# Configure gmaps to use your Google API key.\n",
    "gmaps.configure(api_key=g_key)"
   ]
  },
  {
   "cell_type": "code",
   "execution_count": 14,
   "id": "2868e260",
   "metadata": {},
   "outputs": [],
   "source": [
    "## Get the maximum temperature.\n",
    "#max_temp = city_data_df[\"Max Temp\"]\n",
    "#temps = []\n",
    "#for temp in max_temp:\n",
    "#    temps.append(max(temp, 0))\n",
    "\n",
    "max_temp = city_data_df[\"Max Temp\"]\n",
    "temps= []\n",
    "for temp in max_temp:\n",
    "    temps.append(max(temp,0))"
   ]
  },
  {
   "cell_type": "code",
   "execution_count": 15,
   "id": "cd0cc3b6",
   "metadata": {},
   "outputs": [
    {
     "data": {
      "application/vnd.jupyter.widget-view+json": {
       "model_id": "5adcdcff58584ec3a78c373bed7b5171",
       "version_major": 2,
       "version_minor": 0
      },
      "text/plain": [
       "Figure(layout=FigureLayout(height='420px'))"
      ]
     },
     "metadata": {},
     "output_type": "display_data"
    }
   ],
   "source": [
    "# Heatmap of temperature\n",
    "# Get the latitude and longitude.\n",
    "locations = city_data_df[[\"Lat\", \"Lng\"]]\n",
    "# Get the maximum temperature.\n",
    "max_temp = city_data_df[\"Max Temp\"]\n",
    "# Assign the figure variable.\n",
    "fig = gmaps.figure(center=(30.0, -80), zoom_level=1.5)\n",
    "# Assign the heatmap variable.\n",
    "#heat_layer = gmaps.heatmap_layer(locations, weights=[max(temp, 0) for temp in max_temp])\n",
    "heat_layer = gmaps.heatmap_layer(locations, weights=temps, dissipating=False, max_intensity=300, point_radius=4)\n",
    "# Add the heatmap layer.\n",
    "fig.add_layer(heat_layer)\n",
    "# Call the figure to plot the data.\n",
    "fig"
   ]
  },
  {
   "cell_type": "code",
   "execution_count": 17,
   "id": "c87d3daf",
   "metadata": {},
   "outputs": [
    {
     "data": {
      "application/vnd.jupyter.widget-view+json": {
       "model_id": "2fec4b41429b447cb93b0c75122df383",
       "version_major": 2,
       "version_minor": 0
      },
      "text/plain": [
       "Figure(layout=FigureLayout(height='420px'))"
      ]
     },
     "metadata": {},
     "output_type": "display_data"
    }
   ],
   "source": [
    "# 1. Locations\n",
    "locations = city_data_df[[\"Lat\", \"Lng\"]]\n",
    "# 2. Set Max Temp as y var\n",
    "#max_temp =  city_data_df[\"Max Temp\"] \n",
    "#max_temp =  city_data_df[\"Max Temp\"] \n",
    "# 3. Assign the figure variable \n",
    "fig = gmaps.figure()\n",
    "# 4. Assign the heatmap_layer variable to the heatmap_layer attribute and add in the locations.\n",
    "heat_layer = gmaps.heatmap_layer(locations, weights=temps)\n",
    "# 5. Add the heatmap layer.\n",
    "fig.add_layer(heat_layer)\n",
    "# 6. Call the figure to plot the data.\n",
    "fig"
   ]
  },
  {
   "cell_type": "code",
   "execution_count": 18,
   "id": "c31fba89",
   "metadata": {},
   "outputs": [
    {
     "data": {
      "application/vnd.jupyter.widget-view+json": {
       "model_id": "ba1f8c510026454a8bd57591bd8a9d0c",
       "version_major": 2,
       "version_minor": 0
      },
      "text/plain": [
       "Figure(layout=FigureLayout(height='420px'))"
      ]
     },
     "metadata": {},
     "output_type": "display_data"
    }
   ],
   "source": [
    "## 6.5.2 Create the heat map again using list comprehension\n",
    "# Heatmap of temperature\n",
    "# Get the latitude and longitude.\n",
    "locations = city_data_df[[\"Lat\", \"Lng\"]]\n",
    "# Get the maximum temperature.\n",
    "max_temp = city_data_df[\"Max Temp\"]\n",
    "# Assign the figure variable.\n",
    "fig = gmaps.figure()\n",
    "# Add a center and Zoom.  30 deg north 31 east\n",
    "fig= gmaps.figure(center=(30.0, 31.0), zoom_level=1.5)\n",
    "## Assign the heatmap variable.\n",
    "# dissipation default is True. Set to False\n",
    "# max_intensity - makes each measurement have a better gradiant variance\n",
    "# point_radius - point radius size\n",
    "heat_layer = gmaps.heatmap_layer(locations,weights=[max(temp, 0) for temp in max_temp],dissipating=False,max_intensity=300, point_radius=4)\n",
    "# Add the heatmap layer.\n",
    "fig.add_layer(heat_layer)\n",
    "\n",
    "# Call the figure to plot the data.\n",
    "fig"
   ]
  },
  {
   "cell_type": "code",
   "execution_count": 19,
   "id": "cf233c90",
   "metadata": {},
   "outputs": [
    {
     "data": {
      "application/vnd.jupyter.widget-view+json": {
       "model_id": "8a95f4b51d414d77a93d3cedc524e677",
       "version_major": 2,
       "version_minor": 0
      },
      "text/plain": [
       "Figure(layout=FigureLayout(height='420px'))"
      ]
     },
     "metadata": {},
     "output_type": "display_data"
    }
   ],
   "source": [
    "### 6.5.2 Heatmap of Percent Humidity\n",
    "# Get the latitude and longitude.\n",
    "locations = city_data_df[[\"Lat\", \"Lng\"]]\n",
    "# Get the Humidity\n",
    "humidity = city_data_df[\"Humidity\"]\n",
    "# Assign the figure variable.\n",
    "fig = gmaps.figure()\n",
    "# Add a center and Zoom.  30 deg north 31 east\n",
    "fig= gmaps.figure(center=(30.0, 31.0), zoom_level=1.5)\n",
    "## Assign the heatmap variable.# dissipation default is True. Set to False\n",
    "# max_intensity - makes each measurement have a better gradiant variance\n",
    "# point_radius - point radius size\n",
    "heat_layer = gmaps.heatmap_layer(locations,weights=humidity,dissipating=False,max_intensity=300, point_radius=4)\n",
    "# Add the heatmap layer.\n",
    "fig.add_layer(heat_layer)\n",
    "\n",
    "# Call the figure to plot the data.\n",
    "fig"
   ]
  },
  {
   "cell_type": "code",
   "execution_count": 20,
   "id": "c88ef674",
   "metadata": {},
   "outputs": [
    {
     "data": {
      "application/vnd.jupyter.widget-view+json": {
       "model_id": "81480196d74c4584b788c78fbc8338d5",
       "version_major": 2,
       "version_minor": 0
      },
      "text/plain": [
       "Figure(layout=FigureLayout(height='420px'))"
      ]
     },
     "metadata": {},
     "output_type": "display_data"
    }
   ],
   "source": [
    "### 6.5.2 Heatmap of Percent Cloudiness\n",
    "# Get the latitude and longitude.\n",
    "locations = city_data_df[[\"Lat\", \"Lng\"]]\n",
    "# Get the cloudiness\n",
    "cloudiness = city_data_df[\"Cloudiness\"]\n",
    "# Assign the figure variable.\n",
    "fig = gmaps.figure()\n",
    "# Add a center and Zoom.  30 deg north 31 east\n",
    "fig= gmaps.figure(center=(30.0, 31.0), zoom_level=1.5)\n",
    "## Assign the heatmap variable.# dissipation default is True. Set to False\n",
    "# max_intensity - makes each measurement have a better gradiant variance\n",
    "# point_radius - point radius size\n",
    "heat_layer = gmaps.heatmap_layer(locations,weights=cloudiness,dissipating=False,max_intensity=300, point_radius=4)\n",
    "# Add the heatmap layer.\n",
    "fig.add_layer(heat_layer)\n",
    "\n",
    "# Call the figure to plot the data.\n",
    "fig"
   ]
  },
  {
   "cell_type": "code",
   "execution_count": 21,
   "id": "a695cbda",
   "metadata": {},
   "outputs": [
    {
     "data": {
      "application/vnd.jupyter.widget-view+json": {
       "model_id": "898c7af5738b420b803d6be9b013591a",
       "version_major": 2,
       "version_minor": 0
      },
      "text/plain": [
       "Figure(layout=FigureLayout(height='420px'))"
      ]
     },
     "metadata": {},
     "output_type": "display_data"
    }
   ],
   "source": [
    "### 6.5.2 Heatmap of Percent Wind Speed\n",
    "# Get the latitude and longitude.\n",
    "locations = city_data_df[[\"Lat\", \"Lng\"]]\n",
    "# Get the Wind Speed\n",
    "wind_speed = city_data_df[\"Wind Speed\"]\n",
    "# Assign the figure variable.\n",
    "fig = gmaps.figure()\n",
    "# Add a center and Zoom.  30 deg north 31 east\n",
    "fig= gmaps.figure(center=(30.0, 31.0), zoom_level=1.5)\n",
    "## Assign the heatmap variable.# dissipation default is True. Set to False\n",
    "# max_intensity - makes each measurement have a better gradiant variance\n",
    "# point_radius - point radius size\n",
    "heat_layer = gmaps.heatmap_layer(locations,weights=wind_speed,dissipating=False,max_intensity=300, point_radius=4)\n",
    "# Add the heatmap layer.\n",
    "fig.add_layer(heat_layer)\n",
    "\n",
    "# Call the figure to plot the data.\n",
    "fig"
   ]
  },
  {
   "cell_type": "code",
   "execution_count": null,
   "id": "02ef851e",
   "metadata": {},
   "outputs": [],
   "source": [
    "###  6.5.3 Get Vacation Criteria\n",
    "\n",
    "# Prompt customer to add a minimum and maximum temperature value.\n",
    "min_temp = float(input(\"What is the minimum temperature you would like for your trip? \"))\n",
    "max_temp = float(input(\"What is the maximum temperature you would like for your trip? \"))"
   ]
  },
  {
   "cell_type": "code",
   "execution_count": null,
   "id": "eddabdcb",
   "metadata": {},
   "outputs": [],
   "source": [
    "# Check\n",
    "min_temp"
   ]
  },
  {
   "cell_type": "code",
   "execution_count": null,
   "id": "cac7f74e",
   "metadata": {},
   "outputs": [],
   "source": [
    "## Filter dataset to preferrered cities\n",
    "preferred_cities_df = city_data_df.loc[(city_data_df[\"Max Temp\"] <= max_temp) & \\\n",
    "                                       (city_data_df[\"Max Temp\"] >= min_temp)]\n",
    "preferred_cities_df.info()"
   ]
  },
  {
   "cell_type": "code",
   "execution_count": null,
   "id": "3cd2ea0a",
   "metadata": {},
   "outputs": [],
   "source": []
  },
  {
   "cell_type": "code",
   "execution_count": null,
   "id": "848ce72b",
   "metadata": {},
   "outputs": [],
   "source": [
    "## Drop row which had no value for country\n",
    "#   how : {‘any’, ‘all’}, default ‘any’\n",
    "preferred_cities_df.dropna(inplace=True)"
   ]
  },
  {
   "cell_type": "code",
   "execution_count": null,
   "id": "46a888c3",
   "metadata": {},
   "outputs": [],
   "source": [
    "## review. we got 172 cities.\n",
    "#preferred_cities_df.count()\n",
    "preferred_cities_df.head()"
   ]
  },
  {
   "cell_type": "code",
   "execution_count": null,
   "id": "dddb8cdb",
   "metadata": {},
   "outputs": [],
   "source": [
    "### 6.5.4\n",
    "## Now Get Travel Destinations : Preferred Cities\n",
    "hotel_df = preferred_cities_df[[\"City\", \"Country\", \"Max Temp\", \"Lat\", \"Lng\"]].copy()\n",
    "hotel_df[\"Hotel Name\"] = \"\"\n",
    "hotel_df.head()"
   ]
  },
  {
   "cell_type": "code",
   "execution_count": null,
   "id": "85c71dca",
   "metadata": {},
   "outputs": [],
   "source": [
    "### 6.5.4\n",
    "## Now Get Travel Destinations : Preferred Cities\n",
    "hotel_df = preferred_cities_df[[\"City\", \"Country\", \"Max Temp\", \"Lat\", \"Lng\"]].copy()\n",
    "hotel_df[\"Hotel Name\"] = \"\"\n",
    "hotel_df.head()"
   ]
  },
  {
   "cell_type": "code",
   "execution_count": null,
   "id": "50faf9a7",
   "metadata": {},
   "outputs": [],
   "source": [
    "### Using lat and Lng and specific params\n",
    "##  use Google Places Nearby Search and request\n",
    "##  to retrieve a hotel"
   ]
  },
  {
   "cell_type": "code",
   "execution_count": null,
   "id": "cbdb3be6",
   "metadata": {},
   "outputs": [],
   "source": [
    "##  A Nearby Search request uses\n",
    "## https://maps.googleapis.com/maps/api/place/findplacefromtext/output?parameters\n",
    "## output can be json or XML. json recommended\n",
    "## Required parameters\n",
    "    # api key\n",
    "    # location  (lat,lng)\n",
    "    # radius  - in meters\n",
    "##  Optional Parameters\n",
    "    # keyword\n",
    "    # language - language code\n",
    "    # minprice and maxprice  0-4  least to most affordable  \n",
    "    # name -  also searches keyword\n",
    "    # opennow - caution. will exclude places that don't show hours\n",
    "    # rankby = distance. cannot use with radius()\n",
    "        # prominence - google rank\n",
    "        # distance\n",
    "    # type\n",
    "    # pagetoken - returns up to 20 results from prev search"
   ]
  },
  {
   "cell_type": "code",
   "execution_count": null,
   "id": "69965c3d",
   "metadata": {},
   "outputs": [],
   "source": [
    "### practice using Requests and Google API\n",
    " ##\n",
    " ## First Set the Parameters to be passed to the API Call\n",
    "  #  Create a dictionary of parameters  \n",
    "params = {\"radius\": 5000  # 5000 meters from location\n",
    "          ,\"type\": \"lodging\" # get us a hotel\n",
    "          ,\"key\": g_key # our api key\n",
    "          ,next_page_token:\n",
    "         }   "
   ]
  },
  {
   "cell_type": "code",
   "execution_count": null,
   "id": "1ab2f881",
   "metadata": {},
   "outputs": [],
   "source": [
    "###  Iterate through the DataFrame.\n",
    "\n",
    "for index, row in hotel_df.iterrows():\n",
    "    # Get the latitude and longitude.\n",
    "    lat = row[\"Lat\"]\n",
    "    lng = row[\"Lng\"]\n",
    "\n",
    "    # Add the latitude and longitude to the params dictionary \n",
    "    # as values to the location key.\n",
    "    params[\"location\"] = f\"{lat},{lng}\"\n",
    "\n",
    "    # Use the search term: \"lodging\" and our latitude and longitude.\n",
    "    base_url = \"https://maps.googleapis.com/maps/api/place/nearbysearch/json\"\n",
    "    \n",
    "    # Make request and get the JSON data from the search.\n",
    "    hotels = requests.get(base_url, params=params).json()\n",
    "    try:\n",
    "    # Grab the first hotel from the results and store the name.\n",
    "        hotel_df.loc[index, \"Hotel Name\"] = hotels[\"results\"][0][\"name\"]\n",
    "    except(IndexError):\n",
    "        print(\"Hotel not found... skipping.\")"
   ]
  },
  {
   "cell_type": "code",
   "execution_count": null,
   "id": "6ac22681",
   "metadata": {},
   "outputs": [],
   "source": [
    "## review\n",
    "hotel_df"
   ]
  },
  {
   "cell_type": "code",
   "execution_count": null,
   "id": "a0515cd6",
   "metadata": {},
   "outputs": [],
   "source": [
    "### 6.5.4 Create a Maximum Temperature Heatmap from a Hotel DataFrame\n",
    "\n",
    "# Get X: the latitude and longitude.\n",
    "locations = hotel_df[[\"Lat\", \"Lng\"]]\n",
    "\n",
    "# Get Y: the maximum temperature.\n",
    "max_temp = hotel_df[\"Max Temp\"]\n",
    "\n",
    "# Create figure var with parameters: Add a center and Zoom.  30 deg north 31 east\n",
    "fig= gmaps.figure(center=(30.0, 31.0), zoom_level=1.5)\n",
    "\n",
    "# Create the heatmap layer with parameters\n",
    "heat_layer = gmaps.heatmap_layer(locations,weights= max_temp,dissipating=False,max_intensity=300, point_radius=4)\n",
    "\n",
    "\n",
    "# Create the marker layer with parameters\n",
    "marker_layer = gmaps.marker_layer(locations)\n",
    "\n",
    "# Add the heatmap layer.\n",
    "fig.add_layer(heat_layer)\n",
    "\n",
    "# Add the marker layer\n",
    "fig.add_layer(marker_layer)\n",
    "\n",
    "# Call the figure to plot the data.\n",
    "fig"
   ]
  },
  {
   "cell_type": "code",
   "execution_count": null,
   "id": "87afc7b9",
   "metadata": {},
   "outputs": [],
   "source": [
    "## Create the infobox template as required by the Google API for markers,\n",
    "\n",
    "info_box_template = \"\"\"\n",
    "<dl>\n",
    "<dt>Hotel Name</dt><dd>{Hotel Name}</dd>\n",
    "<dt>City</dt><dd>{City}</dd>\n",
    "<dt>Country</dt><dd>{Country}</dd>\n",
    "<dt>Max Temp</dt><dd>{Max Temp} °F</dd>\n",
    "</dl>\n",
    "\"\"\""
   ]
  },
  {
   "cell_type": "code",
   "execution_count": null,
   "id": "4acaf1b5",
   "metadata": {},
   "outputs": [],
   "source": [
    "# Store the DataFrame Row. formats entire row, for each row. \n",
    "hotel_info = [info_box_template.format(**row) for index, row in hotel_df.iterrows()]"
   ]
  },
  {
   "cell_type": "code",
   "execution_count": null,
   "id": "a775572c",
   "metadata": {},
   "outputs": [],
   "source": [
    "### 6.5.4 Create a Maximum Temperature Heatmap from a Hotel DataFrame\n",
    "##  Adding the Markers\n",
    "\n",
    "# Get X: the latitude and longitude.\n",
    "locations = hotel_df[[\"Lat\", \"Lng\"]]\n",
    "\n",
    "# Get Y: the maximum temperature.\n",
    "max_temp = hotel_df[\"Max Temp\"]\n",
    "\n",
    "# Create figure var with parameters: Add a center and Zoom.  30 deg north 31 east\n",
    "fig= gmaps.figure(center=(30.0, 31.0), zoom_level=1.5)\n",
    "\n",
    "# Create the heatmap layer with parameters\n",
    "heat_layer = gmaps.heatmap_layer(locations,weights= max_temp,dissipating=False,max_intensity=300, point_radius=4)\n",
    "\n",
    "\n",
    "# Create the marker layer with parameters\n",
    "marker_layer = gmaps.marker_layer(locations, info_box_content=hotel_info)\n",
    "\n",
    "# Add the heatmap layer.\n",
    "fig.add_layer(heat_layer)\n",
    "\n",
    "# Add the marker layer\n",
    "fig.add_layer(marker_layer)\n",
    "\n",
    "# Call the figure to plot the data.\n",
    "fig"
   ]
  }
 ],
 "metadata": {
  "kernelspec": {
   "display_name": "PythonData",
   "language": "python",
   "name": "pythondata"
  },
  "language_info": {
   "codemirror_mode": {
    "name": "ipython",
    "version": 3
   },
   "file_extension": ".py",
   "mimetype": "text/x-python",
   "name": "python",
   "nbconvert_exporter": "python",
   "pygments_lexer": "ipython3",
   "version": "3.9.7"
  }
 },
 "nbformat": 4,
 "nbformat_minor": 5
}
